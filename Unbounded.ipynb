{
 "cells": [
  {
   "cell_type": "code",
   "execution_count": 1,
   "id": "83197c3d",
   "metadata": {},
   "outputs": [],
   "source": [
    "from simplex import *"
   ]
  },
  {
   "cell_type": "code",
   "execution_count": 2,
   "id": "52e72191",
   "metadata": {},
   "outputs": [
    {
     "name": "stdout",
     "output_type": "stream",
     "text": [
      "max iterations: 6\n",
      "1th iteration:\n",
      "╒═════╤═════╤═══════╤═══════╤═══════╤═══════╤═══════╕\n",
      "│     │  z  │  x_1  │  x_2  │  x_3  │  x_4  │  RHS  │\n",
      "╞═════╪═════╪═══════╪═══════╪═══════╪═══════╪═══════╡\n",
      "│  z  │  1  │   1   │   3   │   0   │   0   │   0   │\n",
      "├─────┼─────┼───────┼───────┼───────┼───────┼───────┤\n",
      "│ x_3 │  0  │   1   │  -2   │   1   │   0   │   4   │\n",
      "├─────┼─────┼───────┼───────┼───────┼───────┼───────┤\n",
      "│ x_4 │  0  │  -1   │   1   │   0   │   1   │   3   │\n",
      "╘═════╧═════╧═══════╧═══════╧═══════╧═══════╧═══════╛\n",
      "Beginning Problem solving:\n",
      "2th iteration:\n",
      "Entering variable: x_2\n",
      "Exiting  variable: x_4\n",
      "Pivot: 1\n",
      "╒═════╤═════╤═══════╤═══════╤═══════╤═══════╤═══════╕\n",
      "│     │  z  │  x_1  │  x_2  │  x_3  │  x_4  │  RHS  │\n",
      "╞═════╪═════╪═══════╪═══════╪═══════╪═══════╪═══════╡\n",
      "│  z  │  1  │   4   │   0   │   0   │  -3   │  -9   │\n",
      "├─────┼─────┼───────┼───────┼───────┼───────┼───────┤\n",
      "│ x_3 │  0  │  -1   │   0   │   1   │   2   │  10   │\n",
      "├─────┼─────┼───────┼───────┼───────┼───────┼───────┤\n",
      "│ x_2 │  0  │  -1   │   1   │   0   │   1   │   3   │\n",
      "╘═════╧═════╧═══════╧═══════╧═══════╧═══════╧═══════╛\n",
      "3th iteration:\n",
      "Unbounded Problem.\n"
     ]
    }
   ],
   "source": [
    "## Bazaraa, Example 3.7\n",
    "\n",
    "problem = \"\"\"\n",
    "min -1 -3\n",
    "1 -2 <= 4\n",
    "-1 1 <= 3\n",
    "\"\"\"\n",
    "\n",
    "z, A, b, c, x, B, Bs = solve(problem)"
   ]
  }
 ],
 "metadata": {
  "kernelspec": {
   "display_name": "Python 3 (ipykernel)",
   "language": "python",
   "name": "python3"
  },
  "language_info": {
   "codemirror_mode": {
    "name": "ipython",
    "version": 3
   },
   "file_extension": ".py",
   "mimetype": "text/x-python",
   "name": "python",
   "nbconvert_exporter": "python",
   "pygments_lexer": "ipython3",
   "version": "3.9.7"
  }
 },
 "nbformat": 4,
 "nbformat_minor": 5
}
